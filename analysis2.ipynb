{
 "cells": [
  {
   "cell_type": "code",
   "execution_count": null,
   "id": "1f05cb22",
   "metadata": {},
   "outputs": [],
   "source": [
    "# analysis2.ipynb\n",
    "# Predictive modeling to estimate phase progression  \n",
    "\n",
    "# Immuno-Oncology Clinical Trials Analysis from https://clinicaltrials.gov/\n",
    "# Immuno-Oncology Clinical Trials Analysis from https://eudract.ema.europa.eu/\n",
    "\n",
    "import pandas as pd\n",
    "import matplotlib.pyplot as plt\n",
    "import seaborn as sns\n",
    "from rapidfuzz import process"
   ]
  },
  {
   "cell_type": "code",
   "execution_count": null,
   "id": "c9d39aa3",
   "metadata": {},
   "outputs": [],
   "source": [
    "# 1st STEP: MATCHING STUDIES (PS) & LABELLING\n",
    "\n",
    "# PHASE I/I&II/II MATCH WITH PHASE II&III/III\n",
    "# Match variables: intervention, condition and sponsor"
   ]
  },
  {
   "cell_type": "code",
   "execution_count": null,
   "id": "47b7971c",
   "metadata": {},
   "outputs": [],
   "source": [
    "# Final data from analysis.ipynb\n",
    "\n",
    "df = pd.read_csv(\"final_dataset_studies.csv\")  \n",
    "print(df.head())"
   ]
  },
  {
   "cell_type": "code",
   "execution_count": null,
   "id": "94ae5982",
   "metadata": {},
   "outputs": [],
   "source": [
    "# 2nd STEP: MODELLING\n",
    "\n",
    "# Model variables: country, sponsor type, collaborators...\n"
   ]
  }
 ],
 "metadata": {
  "kernelspec": {
   "display_name": "Python 3",
   "language": "python",
   "name": "python3"
  },
  "language_info": {
   "codemirror_mode": {
    "name": "ipython",
    "version": 3
   },
   "file_extension": ".py",
   "mimetype": "text/x-python",
   "name": "python",
   "nbconvert_exporter": "python",
   "pygments_lexer": "ipython3",
   "version": "3.13.3"
  }
 },
 "nbformat": 4,
 "nbformat_minor": 5
}
